{
 "cells": [
  {
   "cell_type": "code",
   "execution_count": 1,
   "id": "4c2dd37b",
   "metadata": {},
   "outputs": [],
   "source": [
    "# importing necessary library\n",
    "\n",
    "import numpy as np\n",
    "import pandas as pd\n",
    "import matplotlib.pyplot as plt\n",
    "\n",
    "from sklearn.tree import DecisionTreeClassifier\n",
    "from sklearn.ensemble import RandomForestClassifier\n",
    "from sklearn.model_selection import train_test_split\n",
    "from sklearn.metrics import accuracy_score\n",
    "from xgboost import XGBClassifier\n",
    "\n",
    "RANDOM_STATE = 55"
   ]
  },
  {
   "cell_type": "code",
   "execution_count": 2,
   "id": "6a067300",
   "metadata": {},
   "outputs": [
    {
     "data": {
      "text/html": [
       "<div>\n",
       "<style scoped>\n",
       "    .dataframe tbody tr th:only-of-type {\n",
       "        vertical-align: middle;\n",
       "    }\n",
       "\n",
       "    .dataframe tbody tr th {\n",
       "        vertical-align: top;\n",
       "    }\n",
       "\n",
       "    .dataframe thead th {\n",
       "        text-align: right;\n",
       "    }\n",
       "</style>\n",
       "<table border=\"1\" class=\"dataframe\">\n",
       "  <thead>\n",
       "    <tr style=\"text-align: right;\">\n",
       "      <th></th>\n",
       "      <th>Age</th>\n",
       "      <th>Sex</th>\n",
       "      <th>ChestPainType</th>\n",
       "      <th>RestingBP</th>\n",
       "      <th>Cholesterol</th>\n",
       "      <th>FastingBS</th>\n",
       "      <th>RestingECG</th>\n",
       "      <th>MaxHR</th>\n",
       "      <th>ExerciseAngina</th>\n",
       "      <th>Oldpeak</th>\n",
       "      <th>ST_Slope</th>\n",
       "      <th>HeartDisease</th>\n",
       "    </tr>\n",
       "  </thead>\n",
       "  <tbody>\n",
       "    <tr>\n",
       "      <th>0</th>\n",
       "      <td>40</td>\n",
       "      <td>M</td>\n",
       "      <td>ATA</td>\n",
       "      <td>140</td>\n",
       "      <td>289</td>\n",
       "      <td>0</td>\n",
       "      <td>Normal</td>\n",
       "      <td>172</td>\n",
       "      <td>N</td>\n",
       "      <td>0.0</td>\n",
       "      <td>Up</td>\n",
       "      <td>0</td>\n",
       "    </tr>\n",
       "    <tr>\n",
       "      <th>1</th>\n",
       "      <td>49</td>\n",
       "      <td>F</td>\n",
       "      <td>NAP</td>\n",
       "      <td>160</td>\n",
       "      <td>180</td>\n",
       "      <td>0</td>\n",
       "      <td>Normal</td>\n",
       "      <td>156</td>\n",
       "      <td>N</td>\n",
       "      <td>1.0</td>\n",
       "      <td>Flat</td>\n",
       "      <td>1</td>\n",
       "    </tr>\n",
       "    <tr>\n",
       "      <th>2</th>\n",
       "      <td>37</td>\n",
       "      <td>M</td>\n",
       "      <td>ATA</td>\n",
       "      <td>130</td>\n",
       "      <td>283</td>\n",
       "      <td>0</td>\n",
       "      <td>ST</td>\n",
       "      <td>98</td>\n",
       "      <td>N</td>\n",
       "      <td>0.0</td>\n",
       "      <td>Up</td>\n",
       "      <td>0</td>\n",
       "    </tr>\n",
       "    <tr>\n",
       "      <th>3</th>\n",
       "      <td>48</td>\n",
       "      <td>F</td>\n",
       "      <td>ASY</td>\n",
       "      <td>138</td>\n",
       "      <td>214</td>\n",
       "      <td>0</td>\n",
       "      <td>Normal</td>\n",
       "      <td>108</td>\n",
       "      <td>Y</td>\n",
       "      <td>1.5</td>\n",
       "      <td>Flat</td>\n",
       "      <td>1</td>\n",
       "    </tr>\n",
       "    <tr>\n",
       "      <th>4</th>\n",
       "      <td>54</td>\n",
       "      <td>M</td>\n",
       "      <td>NAP</td>\n",
       "      <td>150</td>\n",
       "      <td>195</td>\n",
       "      <td>0</td>\n",
       "      <td>Normal</td>\n",
       "      <td>122</td>\n",
       "      <td>N</td>\n",
       "      <td>0.0</td>\n",
       "      <td>Up</td>\n",
       "      <td>0</td>\n",
       "    </tr>\n",
       "  </tbody>\n",
       "</table>\n",
       "</div>"
      ],
      "text/plain": [
       "   Age Sex ChestPainType  RestingBP  Cholesterol  FastingBS RestingECG  MaxHR  \\\n",
       "0   40   M           ATA        140          289          0     Normal    172   \n",
       "1   49   F           NAP        160          180          0     Normal    156   \n",
       "2   37   M           ATA        130          283          0         ST     98   \n",
       "3   48   F           ASY        138          214          0     Normal    108   \n",
       "4   54   M           NAP        150          195          0     Normal    122   \n",
       "\n",
       "  ExerciseAngina  Oldpeak ST_Slope  HeartDisease  \n",
       "0              N      0.0       Up             0  \n",
       "1              N      1.0     Flat             1  \n",
       "2              N      0.0       Up             0  \n",
       "3              Y      1.5     Flat             1  \n",
       "4              N      0.0       Up             0  "
      ]
     },
     "execution_count": 2,
     "metadata": {},
     "output_type": "execute_result"
    }
   ],
   "source": [
    "# Dataset\n",
    "\n",
    "df = pd.read_csv(f\"D:\\kiggle file\\Bodavan\\heart.csv\")\n",
    "df.head()"
   ]
  },
  {
   "cell_type": "code",
   "execution_count": 3,
   "id": "4be80e74",
   "metadata": {},
   "outputs": [
    {
     "data": {
      "text/plain": [
       "Index(['Age', 'Sex', 'ChestPainType', 'RestingBP', 'Cholesterol', 'FastingBS',\n",
       "       'RestingECG', 'MaxHR', 'ExerciseAngina', 'Oldpeak', 'ST_Slope',\n",
       "       'HeartDisease'],\n",
       "      dtype='object')"
      ]
     },
     "execution_count": 3,
     "metadata": {},
     "output_type": "execute_result"
    }
   ],
   "source": [
    "# All column name\n",
    "df.columns"
   ]
  },
  {
   "cell_type": "code",
   "execution_count": 4,
   "id": "84796cf3",
   "metadata": {},
   "outputs": [
    {
     "data": {
      "text/plain": [
       "Age                 int64\n",
       "Sex                object\n",
       "ChestPainType      object\n",
       "RestingBP           int64\n",
       "Cholesterol         int64\n",
       "FastingBS           int64\n",
       "RestingECG         object\n",
       "MaxHR               int64\n",
       "ExerciseAngina     object\n",
       "Oldpeak           float64\n",
       "ST_Slope           object\n",
       "HeartDisease        int64\n",
       "dtype: object"
      ]
     },
     "execution_count": 4,
     "metadata": {},
     "output_type": "execute_result"
    }
   ],
   "source": [
    "# data type of all column\n",
    "df.dtypes"
   ]
  },
  {
   "cell_type": "code",
   "execution_count": 9,
   "id": "5b185a31",
   "metadata": {},
   "outputs": [
    {
     "data": {
      "text/plain": [
       "['Sex', 'ChestPainType', 'RestingECG', 'ExerciseAngina', 'ST_Slope']"
      ]
     },
     "execution_count": 9,
     "metadata": {},
     "output_type": "execute_result"
    }
   ],
   "source": [
    "# all categorical column\n",
    "df.select_dtypes(\"object\").columns.tolist()\n"
   ]
  },
  {
   "cell_type": "code",
   "execution_count": 13,
   "id": "4d914866",
   "metadata": {},
   "outputs": [
    {
     "name": "stdout",
     "output_type": "stream",
     "text": [
      "int64: ['Age', 'RestingBP', 'Cholesterol', 'FastingBS', 'MaxHR', 'HeartDisease']\n",
      "float64: ['Oldpeak']\n",
      "object: ['Sex', 'ChestPainType', 'RestingECG', 'ExerciseAngina', 'ST_Slope']\n"
     ]
    }
   ],
   "source": [
    "# all column name by uniqe datatypes group\n",
    "col_by_types = df.dtypes.groupby(df.dtypes).groups\n",
    "for data_type, cols in col_by_types.items():\n",
    "    print(f\"{data_type}: {list(cols)}\")"
   ]
  },
  {
   "cell_type": "code",
   "execution_count": 15,
   "id": "07846ad5",
   "metadata": {},
   "outputs": [
    {
     "name": "stdout",
     "output_type": "stream",
     "text": [
      "Unique values for Sex: ['M' 'F']\n",
      "Unique values for ChestPainType: ['ATA' 'NAP' 'ASY' 'TA']\n",
      "Unique values for RestingECG: ['Normal' 'ST' 'LVH']\n",
      "Unique values for ExerciseAngina: ['N' 'Y']\n",
      "Unique values for ST_Slope: ['Up' 'Flat' 'Down']\n"
     ]
    }
   ],
   "source": [
    "# gitting the unique value for categorical variables\n",
    "\n",
    "cat_variables = ['Sex',\n",
    "'ChestPainType',\n",
    "'RestingECG',\n",
    "'ExerciseAngina',\n",
    "'ST_Slope'\n",
    "]\n",
    "# Assuming you have a DataFrame named 'df' and a list of column names 'column_names'\n",
    "unique_values_by_column = {col: df[col].unique() for col in cat_variables }\n",
    "\n",
    "# Print unique values for each column\n",
    "for column_name, unique_values in unique_values_by_column.items():\n",
    "    print(f\"Unique values for {column_name}: {unique_values}\")"
   ]
  },
  {
   "cell_type": "code",
   "execution_count": 16,
   "id": "168a6649",
   "metadata": {},
   "outputs": [],
   "source": [
    "# making categorical variable into numarical variable using one hot encoding\n",
    "\n",
    "cat_variables = ['Sex',\n",
    "'ChestPainType',\n",
    "'RestingECG',\n",
    "'ExerciseAngina',\n",
    "'ST_Slope'\n",
    "]\n",
    "\n",
    "df = pd.get_dummies(data=df,\n",
    "                   prefix = cat_variables,\n",
    "                   columns = cat_variables)"
   ]
  },
  {
   "cell_type": "code",
   "execution_count": 38,
   "id": "ce73d595",
   "metadata": {},
   "outputs": [
    {
     "data": {
      "text/plain": [
       "Index(['Age', 'RestingBP', 'Cholesterol', 'FastingBS', 'MaxHR', 'Oldpeak',\n",
       "       'HeartDisease', 'Sex_F', 'Sex_M', 'ChestPainType_ASY',\n",
       "       'ChestPainType_ATA', 'ChestPainType_NAP', 'ChestPainType_TA',\n",
       "       'RestingECG_LVH', 'RestingECG_Normal', 'RestingECG_ST',\n",
       "       'ExerciseAngina_N', 'ExerciseAngina_Y', 'ST_Slope_Down',\n",
       "       'ST_Slope_Flat', 'ST_Slope_Up'],\n",
       "      dtype='object')"
      ]
     },
     "execution_count": 38,
     "metadata": {},
     "output_type": "execute_result"
    }
   ],
   "source": [
    "df.columns"
   ]
  },
  {
   "cell_type": "code",
   "execution_count": 44,
   "id": "3203acf3",
   "metadata": {},
   "outputs": [
    {
     "name": "stdout",
     "output_type": "stream",
     "text": [
      "20\n"
     ]
    }
   ],
   "source": [
    "# split the data into feature and target\n",
    "X = [x for x in df.columns if x not in 'HeartDisease'] ## Removing our target variable\n",
    "y=df[\"HeartDisease\"]\n",
    "\n",
    "print(len(X))"
   ]
  },
  {
   "cell_type": "code",
   "execution_count": 46,
   "id": "ac749fc7",
   "metadata": {},
   "outputs": [],
   "source": [
    "# split the dataset into train and split\n",
    "X_train,X_test,y_train,y_test = train_test_split(df[X],y,train_size= 0.8,random_state=53)"
   ]
  },
  {
   "cell_type": "code",
   "execution_count": 47,
   "id": "0628ac9f",
   "metadata": {},
   "outputs": [
    {
     "name": "stdout",
     "output_type": "stream",
     "text": [
      "train sample: 734\n",
      "test sample: 184\n"
     ]
    }
   ],
   "source": [
    "print(f\"train sample: {len(X_train)}\")\n",
    "print(f\"test sample: {len(X_test)}\")"
   ]
  },
  {
   "cell_type": "markdown",
   "id": "bd5c35ee",
   "metadata": {},
   "source": [
    "# Decision Tree\n",
    "\n",
    "min_samples_split: The minimum number of samples required to split an internal node.\n",
    "Choosing a higher min_samples_split can reduce the number of splits and may help to reduce overfitting.\n",
    "max_depth: The maximum depth of the tree.\n",
    "Choosing a lower max_depth can reduce the number of splits and may help to reduce overfitting."
   ]
  },
  {
   "cell_type": "code",
   "execution_count": 48,
   "id": "64893edc",
   "metadata": {},
   "outputs": [],
   "source": [
    "min_samples_split_list = [2,10, 30, 50, 100, 200, 300, 700] ## If the number is an integer, then it is the actual quantity of samples,\n",
    "max_depth_list = [1,2, 3, 4, 8, 16, 32, 64, None] "
   ]
  },
  {
   "cell_type": "code",
   "execution_count": 52,
   "id": "6012ba65",
   "metadata": {},
   "outputs": [
    {
     "data": {
      "text/plain": [
       "<matplotlib.legend.Legend at 0x2ccaca25120>"
      ]
     },
     "execution_count": 52,
     "metadata": {},
     "output_type": "execute_result"
    },
    {
     "data": {
      "image/png": "[encoded data removed]",
      "text/plain": [
       "<Figure size 640x480 with 1 Axes>"
      ]
     },
     "metadata": {},
     "output_type": "display_data"
    }
   ],
   "source": [
    "# for samples split \n",
    "\n",
    "\n",
    "accuracy_list_train = []\n",
    "accuracy_list_test = []\n",
    "\n",
    "for min_samples_split in min_samples_split_list:\n",
    "    model = DecisionTreeClassifier(min_samples_split = min_samples_split, \n",
    "                                  random_state=53).fit(X_train,y_train)\n",
    "    pred_train = model.predict(X_train)\n",
    "    pred_test = model.predict(X_test)\n",
    "    accuracy_train = accuracy_score(pred_train,y_train)\n",
    "    accuracy_test =accuracy_score(pred_test,y_test)\n",
    "    \n",
    "    accuracy_list_train.append(accuracy_train)\n",
    "    accuracy_list_test.append(accuracy_test)\n",
    "    \n",
    "    \n",
    "plt.title(\"Train & test metrics\")\n",
    "plt.xlabel(\"min samples split\")\n",
    "plt.ylabel(\"accuracy\")\n",
    "plt.xticks(ticks = range(len(min_samples_split_list )),labels=min_samples_split_list)\n",
    "plt.plot(accuracy_list_train)\n",
    "plt.plot(accuracy_list_test)\n",
    "plt.legend(['Train','Validation'])"
   ]
  },
  {
   "cell_type": "markdown",
   "id": "26a3b758",
   "metadata": {},
   "source": [
    "# \n",
    "- Increasing min_samples_split from 10 to 30, and from 30 to 50, even though it does not improve the validation accuracy, it brings the training accuracy closer to it, showing a reduction in overfitting."
   ]
  },
  {
   "cell_type": "code",
   "execution_count": 57,
   "id": "f0a0c036",
   "metadata": {},
   "outputs": [
    {
     "data": {
      "text/plain": [
       "<matplotlib.legend.Legend at 0x2ccad3b9090>"
      ]
     },
     "execution_count": 57,
     "metadata": {},
     "output_type": "execute_result"
    },
    {
     "data": {
      "image/png": "[encoded data removed]",
      "text/plain": [
       "<Figure size 640x480 with 1 Axes>"
      ]
     },
     "metadata": {},
     "output_type": "display_data"
    }
   ],
   "source": [
    "# for depth list\n",
    "accuracy_list_train = []\n",
    "accuracy_list_test = []\n",
    "for max_depth in max_depth_list:\n",
    "    # You can fit the model at the same time you define it, because the fit function returns the fitted estimator.\n",
    "    model = DecisionTreeClassifier(max_depth = max_depth,\n",
    "                                   random_state = 53).fit(X_train,y_train) \n",
    "    predictions_train = model.predict(X_train) ## The predicted values for the train dataset\n",
    "    predictions_test = model.predict(X_test) ## The predicted values for the test dataset\n",
    "    accuracy_train = accuracy_score(predictions_train,y_train)\n",
    "    accuracy_test = accuracy_score(predictions_test,y_test)\n",
    "    accuracy_list_train.append(accuracy_train)\n",
    "    accuracy_list_test.append(accuracy_test)\n",
    "\n",
    "plt.title('Train x Validation metrics')\n",
    "plt.xlabel('max_depth')\n",
    "plt.ylabel('accuracy')\n",
    "plt.xticks(ticks = range(len(max_depth_list )),labels=max_depth_list)\n",
    "plt.plot(accuracy_list_train)\n",
    "plt.plot(accuracy_list_test)\n",
    "plt.legend(['Train','Validation'])"
   ]
  },
  {
   "cell_type": "markdown",
   "id": "2488b938",
   "metadata": {},
   "source": [
    "# \n",
    "- Reducing max_depth from 8 to 4 increases validation accuracy closer to training accuracy, while significantly reducing training accuracy.\n",
    "- The validation accuracy reaches the highest at tree_depth=4.\n",
    "- When the max_depth is smaller than 3, both training and validation accuracy decreases. The tree cannot make enough splits to distinguish positives from negatives (the model is underfitting the training set)."
   ]
  },
  {
   "cell_type": "markdown",
   "id": "eb2626e4",
   "metadata": {},
   "source": [
    "So we can choose the best values for these two hyper-parameters for our model to be:\n",
    "\n",
    "- max_depth = 4\n",
    "- min_samples_split = 50\n",
    "\n",
    "This is how we choose max depth and min samples split (in avobe two code)"
   ]
  },
  {
   "cell_type": "code",
   "execution_count": 58,
   "id": "33a3dd4d",
   "metadata": {},
   "outputs": [],
   "source": [
    "# decision tree model\n",
    "\n",
    "dt_model = DecisionTreeClassifier(min_samples_split = 50,\n",
    "                                 max_depth = 4,\n",
    "                                 random_state = 53).fit(X_train,y_train)"
   ]
  },
  {
   "cell_type": "code",
   "execution_count": 59,
   "id": "739bcb74",
   "metadata": {},
   "outputs": [
    {
     "name": "stdout",
     "output_type": "stream",
     "text": [
      "Metrics train: \n",
      "\t Accuracy score:  0.867847 \n",
      "Metrics test: \n",
      "\t Accuracy score:  0.831522 \n"
     ]
    }
   ],
   "source": [
    "# accuracy score of decision tree model\n",
    "\n",
    "print(f\"Metrics train: \\n\\t Accuracy score: {accuracy_score(dt_model.predict(X_train),y_train): 4f} \")\n",
    "print(f\"Metrics test: \\n\\t Accuracy score: {accuracy_score(dt_model.predict(X_test),y_test): 4f} \")"
   ]
  },
  {
   "cell_type": "code",
   "execution_count": null,
   "id": "8ccab5fd",
   "metadata": {},
   "outputs": [],
   "source": []
  },
  {
   "cell_type": "code",
   "execution_count": null,
   "id": "f7d3a6c7",
   "metadata": {},
   "outputs": [],
   "source": []
  },
  {
   "cell_type": "markdown",
   "id": "b96be255",
   "metadata": {},
   "source": [
    "# Random Forest\n",
    "Now let's try the Random Forest algorithm also, using the Scikit-learn implementation.\n",
    "\n",
    "- All of the hyperparameters found in the decision tree model will also exist in this algorithm, since a random forest is an ensemble of many Decision Trees.\n",
    "- One additional hyperparameter for Random Forest is called n_estimators which is the number of Decision Trees that make up the Random Forest.\n",
    "- We will run the same script again, but with another parameter, n_estimators, where we will choose between 10, 50, and 100. The default is 100"
   ]
  },
  {
   "cell_type": "code",
   "execution_count": 60,
   "id": "70d87015",
   "metadata": {},
   "outputs": [],
   "source": [
    "min_samples_split_list = [2,10, 30, 50, 100, 200, 300, 700]  ## If the number is an integer, then it is the actual quantity of samples,\n",
    "                                             ## If it is a float, then it is the percentage of the dataset\n",
    "max_depth_list = [2, 4, 8, 16, 32, 64, None]\n",
    "n_estimators_list = [10,50,100,500]"
   ]
  },
  {
   "cell_type": "code",
   "execution_count": 66,
   "id": "33a98c24",
   "metadata": {},
   "outputs": [
    {
     "data": {
      "text/plain": [
       "<matplotlib.legend.Legend at 0x2ccad4cd540>"
      ]
     },
     "execution_count": 66,
     "metadata": {},
     "output_type": "execute_result"
    },
    {
     "data": {
      "image/png": "[encoded data removed]",
      "text/plain": [
       "<Figure size 640x480 with 1 Axes>"
      ]
     },
     "metadata": {},
     "output_type": "display_data"
    }
   ],
   "source": [
    "# choosing min samples lplit list\n",
    "\n",
    "accuracy_list_train = []\n",
    "accuracy_list_test = []\n",
    "for min_samples_split in min_samples_split_list:\n",
    "    model = RandomForestClassifier(min_samples_split = min_samples_split,\n",
    "                               random_state = 53).fit(X_train,y_train)\n",
    "    pred_train = model.predict(X_train)\n",
    "    pred_test = model.predict(X_test)\n",
    "    accuracy_train = accuracy_score(pred_train,y_train)\n",
    "    accuracy_test = accuracy_score(pred_test,y_test)\n",
    "    accuracy_list_train.append(accuracy_train)\n",
    "    accuracy_list_test.append(accuracy_test)\n",
    "    \n",
    "plt.title('Train x Validation metrics')\n",
    "plt.xlabel('min_samples_split')\n",
    "plt.ylabel('accuracy')\n",
    "plt.xticks(ticks = range(len(min_samples_split_list )),labels=min_samples_split_list) \n",
    "plt.plot(accuracy_list_train)\n",
    "plt.plot(accuracy_list_test)\n",
    "plt.legend(['Train','Validation'])"
   ]
  },
  {
   "cell_type": "markdown",
   "id": "326f8b21",
   "metadata": {},
   "source": [
    "# \n",
    "Notice that, even though the validation accuraty reaches is the same both at min_samples_split = 2 and min_samples_split = 10, in the latter the difference in training and validation set reduces, showing less overfitting"
   ]
  },
  {
   "cell_type": "code",
   "execution_count": 67,
   "id": "686592df",
   "metadata": {},
   "outputs": [
    {
     "data": {
      "text/plain": [
       "<matplotlib.legend.Legend at 0x2ccad53eef0>"
      ]
     },
     "execution_count": 67,
     "metadata": {},
     "output_type": "execute_result"
    },
    {
     "data": {
      "image/png": "[encoded data removed]",
      "text/plain": [
       "<Figure size 640x480 with 1 Axes>"
      ]
     },
     "metadata": {},
     "output_type": "display_data"
    }
   ],
   "source": [
    "# choosing max depth\n",
    "\n",
    "accuracy_list_train = []\n",
    "accuracy_list_test = []\n",
    "for max_depth in max_depth_list:\n",
    "    model = RandomForestClassifier(max_depth = max_depth,\n",
    "                               random_state = 53).fit(X_train,y_train)\n",
    "    pred_train = model.predict(X_train)\n",
    "    pred_test = model.predict(X_test)\n",
    "    accuracy_train = accuracy_score(pred_train,y_train)\n",
    "    accuracy_test = accuracy_score(pred_test,y_test)\n",
    "    accuracy_list_train.append(accuracy_train)\n",
    "    accuracy_list_test.append(accuracy_test)\n",
    "    \n",
    "plt.title('Train x Validation metrics')\n",
    "plt.xlabel('max depth')\n",
    "plt.ylabel('accuracy')\n",
    "plt.xticks(ticks = range(len(max_depth_list )),labels=max_depth_list) \n",
    "plt.plot(accuracy_list_train)\n",
    "plt.plot(accuracy_list_test)\n",
    "plt.legend(['Train','Validation'])"
   ]
  },
  {
   "cell_type": "code",
   "execution_count": 68,
   "id": "b1b85eaa",
   "metadata": {},
   "outputs": [
    {
     "data": {
      "text/plain": [
       "<matplotlib.legend.Legend at 0x2ccad4c4970>"
      ]
     },
     "execution_count": 68,
     "metadata": {},
     "output_type": "execute_result"
    },
    {
     "data": {
      "image/png": "[encoded data removed]",
      "text/plain": [
       "<Figure size 640x480 with 1 Axes>"
      ]
     },
     "metadata": {},
     "output_type": "display_data"
    }
   ],
   "source": [
    "# choosing n_estimators_list\n",
    "\n",
    "accuracy_list_train = []\n",
    "accuracy_list_test = []\n",
    "for n_estimators in n_estimators_list:\n",
    "    model = RandomForestClassifier(n_estimators = n_estimators,\n",
    "                               random_state = 53).fit(X_train,y_train)\n",
    "    pred_train = model.predict(X_train)\n",
    "    pred_test = model.predict(X_test)\n",
    "    accuracy_train = accuracy_score(pred_train,y_train)\n",
    "    accuracy_test = accuracy_score(pred_test,y_test)\n",
    "    accuracy_list_train.append(accuracy_train)\n",
    "    accuracy_list_test.append(accuracy_test)\n",
    "    \n",
    "plt.title('Train x Validation metrics')\n",
    "plt.xlabel('n_estimators')\n",
    "plt.ylabel('accuracy')\n",
    "plt.xticks(ticks = range(len(n_estimators_list )),labels=n_estimators_list) \n",
    "plt.plot(accuracy_list_train)\n",
    "plt.plot(accuracy_list_test)\n",
    "plt.legend(['Train','Validation'])"
   ]
  },
  {
   "cell_type": "markdown",
   "id": "a996b8f6",
   "metadata": {},
   "source": [
    "Let's then fit a random forest with the following parameters:\n",
    "\n",
    "- max_depth: 16\n",
    "- min_samples_split: 10\n",
    "- n_estimators: 100"
   ]
  },
  {
   "cell_type": "code",
   "execution_count": 84,
   "id": "cffe023f",
   "metadata": {},
   "outputs": [],
   "source": [
    "# random forest model\n",
    "random_forest_model = RandomForestClassifier(n_estimators= 100,\n",
    "                                            max_depth = 15,\n",
    "                                            min_samples_split = 10).fit(X_train,y_train)"
   ]
  },
  {
   "cell_type": "code",
   "execution_count": 85,
   "id": "aea3ffd6",
   "metadata": {},
   "outputs": [
    {
     "name": "stdout",
     "output_type": "stream",
     "text": [
      "Metrics train: \n",
      "\t Accuracy score:  0.935967 \n",
      "Metrics test: \n",
      "\t Accuracy score:  0.885870 \n"
     ]
    }
   ],
   "source": [
    "# accuracy score of decision tree model\n",
    "\n",
    "print(f\"Metrics train: \\n\\t Accuracy score: {accuracy_score(random_forest_model.predict(X_train),y_train): 4f} \")\n",
    "print(f\"Metrics test: \\n\\t Accuracy score: {accuracy_score(random_forest_model.predict(X_test),y_test): 4f} \")"
   ]
  },
  {
   "cell_type": "markdown",
   "id": "04deb358",
   "metadata": {},
   "source": [
    "Note that we are searching for the best value one hyperparameter while leaving the other hyperparameters at their default values.\n",
    "\n",
    "- Ideally, we would want to check every combination of values for every hyperparameter that we are tuning.\n",
    "- If we have 3 hyperparameters, and each hyperparameter has 4 values to try out, we should have a total of 4 x 4 x 4 = 64 combinations to try.\n",
    "- When we only modify one hyperparameter while leaving the rest as their default value, we are trying 4 + 4 + 4 = 12 results.\n",
    "- To try out all combinations, we can use a sklearn implementation called GridSearchCV. GridSearchCV has a refit parameter that will automatically refit a model on the best combination so we will not need to program it explicitly. For more on GridSearchCV, please refer to its documentation."
   ]
  },
  {
   "cell_type": "code",
   "execution_count": null,
   "id": "e66998f0",
   "metadata": {},
   "outputs": [],
   "source": []
  },
  {
   "cell_type": "markdown",
   "id": "cdb05a4b",
   "metadata": {},
   "source": [
    "# XGBoost\n",
    "Next is the Gradient Boosting model, called XGBoost. The boosting methods train several trees, but instead of them being uncorrelated to each other, now the trees are fit one after the other in order to minimize the error.\n",
    "\n",
    "The model has the same parameters as a decision tree, plus the learning rate.\n",
    "\n",
    "- The learning rate is the size of the step on the Gradient Descent method that the XGBoost uses internally to minimize the error on each train step.\n",
    "One interesting thing about the XGBoost is that during fitting, it can take in an evaluation dataset of the form (X_val,y_val).\n",
    "\n",
    "- On each iteration, it measures the cost (or evaluation metric) on the evaluation datasets.\n",
    "- Once the cost (or metric) stops decreasing for a number of rounds (called early_stopping_rounds), the training will stop.\n",
    "- More iterations lead to more estimators, and more estimators can result in overfitting.\n",
    "- By stopping once the validation metric no longer improves, we can limit the number of estimators created, and reduce overfitting."
   ]
  },
  {
   "cell_type": "code",
   "execution_count": 87,
   "id": "89440d13",
   "metadata": {},
   "outputs": [
    {
     "data": {
      "text/plain": [
       "587"
      ]
     },
     "execution_count": 87,
     "metadata": {},
     "output_type": "execute_result"
    }
   ],
   "source": [
    "# Let's use 80% to train and 20% to eval\n",
    "n = int(len(X_train)*0.8)\n",
    "n"
   ]
  },
  {
   "cell_type": "code",
   "execution_count": 88,
   "id": "c53ecb7c",
   "metadata": {},
   "outputs": [],
   "source": [
    "X_train_fit,X_train_eval,y_train_fit,y_train_eval = X_train[:n],X_train[n:],y_train[:n],y_train[n:]"
   ]
  },
  {
   "cell_type": "markdown",
   "id": "ec2112a7",
   "metadata": {},
   "source": [
    "We can then set a large number of estimators, because we can stop if the cost function stops decreasing.\n",
    "\n",
    "Note some of the .fit() parameters:\n",
    "\n",
    "- eval_set = [(X_train_eval,y_train_eval)]:Here we must pass a list to the eval_set, because you can have several different tuples ov eval sets.\n",
    "- early_stopping_rounds: This parameter helps to stop the model training if its evaluation metric is no longer improving on the validation set. It's set to 10.\n",
    "  - The model keeps track of the round with the best performance (lowest evaluation metric). For example, let's say round 16 has the lowest evaluation metric so far.\n",
    "  - Each successive round's evaluation metric is compared to the best metric. If the model goes 10 rounds where none have a better metric than the best one, then the model stops training.\n",
    "  - The model is returned at its last state when training terminated, not its state during the best round. For example, if the model stops at round 26, but the best round was 16, the model's training state at round 26 is returned, not round 16.\n",
    "  - Note that this is different from returning the model's \"best\" state (from when the evaluation metric was the lowest)."
   ]
  },
  {
   "cell_type": "code",
   "execution_count": 89,
   "id": "578d00dc",
   "metadata": {},
   "outputs": [
    {
     "name": "stdout",
     "output_type": "stream",
     "text": [
      "[06:44:06] WARNING: C:\\Users\\dev-admin\\croot2\\xgboost-split_1675461376218\\work\\src\\learner.cc:767: \n",
      "Parameters: { \"n_estimations\" } are not used.\n",
      "\n",
      "[0]\tvalidation_0-logloss:0.64897\n",
      "[1]\tvalidation_0-logloss:0.61398\n",
      "[2]\tvalidation_0-logloss:0.58472\n",
      "[3]\tvalidation_0-logloss:0.55909\n",
      "[4]\tvalidation_0-logloss:0.53762\n",
      "[5]\tvalidation_0-logloss:0.52031\n",
      "[6]\tvalidation_0-logloss:0.50823\n",
      "[7]\tvalidation_0-logloss:0.49778\n",
      "[8]\tvalidation_0-logloss:0.48828\n",
      "[9]\tvalidation_0-logloss:0.48003\n",
      "[10]\tvalidation_0-logloss:0.47188\n",
      "[11]\tvalidation_0-logloss:0.46471\n",
      "[12]\tvalidation_0-logloss:0.45897\n",
      "[13]\tvalidation_0-logloss:0.45166\n",
      "[14]\tvalidation_0-logloss:0.44640\n",
      "[15]\tvalidation_0-logloss:0.43959\n",
      "[16]\tvalidation_0-logloss:0.43722\n",
      "[17]\tvalidation_0-logloss:0.43488\n",
      "[18]\tvalidation_0-logloss:0.43317\n",
      "[19]\tvalidation_0-logloss:0.43148\n",
      "[20]\tvalidation_0-logloss:0.42752\n",
      "[21]\tvalidation_0-logloss:0.42262\n",
      "[22]\tvalidation_0-logloss:0.42025\n",
      "[23]\tvalidation_0-logloss:0.41914\n",
      "[24]\tvalidation_0-logloss:0.41775\n",
      "[25]\tvalidation_0-logloss:0.41654\n",
      "[26]\tvalidation_0-logloss:0.41631\n",
      "[27]\tvalidation_0-logloss:0.41504\n",
      "[28]\tvalidation_0-logloss:0.41570\n",
      "[29]\tvalidation_0-logloss:0.41483\n",
      "[30]\tvalidation_0-logloss:0.41545\n",
      "[31]\tvalidation_0-logloss:0.41571\n",
      "[32]\tvalidation_0-logloss:0.41557\n",
      "[33]\tvalidation_0-logloss:0.41723\n",
      "[34]\tvalidation_0-logloss:0.41706\n",
      "[35]\tvalidation_0-logloss:0.41841\n",
      "[36]\tvalidation_0-logloss:0.41994\n",
      "[37]\tvalidation_0-logloss:0.42099\n"
     ]
    },
    {
     "name": "stderr",
     "output_type": "stream",
     "text": [
      "C:\\Users\\user\\.conda\\envs\\tf\\lib\\site-packages\\xgboost\\sklearn.py:835: UserWarning: `early_stopping_rounds` in `fit` method is deprecated for better compatibility with scikit-learn, use `early_stopping_rounds` in constructor or`set_params` instead.\n",
      "  warnings.warn(\n"
     ]
    },
    {
     "name": "stdout",
     "output_type": "stream",
     "text": [
      "[38]\tvalidation_0-logloss:0.42177\n",
      "[39]\tvalidation_0-logloss:0.42238\n"
     ]
    },
    {
     "data": {
      "text/html": [
       "<style>#sk-container-id-1 {color: black;background-color: white;}#sk-container-id-1 pre{padding: 0;}#sk-container-id-1 div.sk-toggleable {background-color: white;}#sk-container-id-1 label.sk-toggleable__label {cursor: pointer;display: block;width: 100%;margin-bottom: 0;padding: 0.3em;box-sizing: border-box;text-align: center;}#sk-container-id-1 label.sk-toggleable__label-arrow:before {content: \"▸\";float: left;margin-right: 0.25em;color: #696969;}#sk-container-id-1 label.sk-toggleable__label-arrow:hover:before {color: black;}#sk-container-id-1 div.sk-estimator:hover label.sk-toggleable__label-arrow:before {color: black;}#sk-container-id-1 div.sk-toggleable__content {max-height: 0;max-width: 0;overflow: hidden;text-align: left;background-color: #f0f8ff;}#sk-container-id-1 div.sk-toggleable__content pre {margin: 0.2em;color: black;border-radius: 0.25em;background-color: #f0f8ff;}#sk-container-id-1 input.sk-toggleable__control:checked~div.sk-toggleable__content {max-height: 200px;max-width: 100%;overflow: auto;}#sk-container-id-1 input.sk-toggleable__control:checked~label.sk-toggleable__label-arrow:before {content: \"▾\";}#sk-container-id-1 div.sk-estimator input.sk-toggleable__control:checked~label.sk-toggleable__label {background-color: #d4ebff;}#sk-container-id-1 div.sk-label input.sk-toggleable__control:checked~label.sk-toggleable__label {background-color: #d4ebff;}#sk-container-id-1 input.sk-hidden--visually {border: 0;clip: rect(1px 1px 1px 1px);clip: rect(1px, 1px, 1px, 1px);height: 1px;margin: -1px;overflow: hidden;padding: 0;position: absolute;width: 1px;}#sk-container-id-1 div.sk-estimator {font-family: monospace;background-color: #f0f8ff;border: 1px dotted black;border-radius: 0.25em;box-sizing: border-box;margin-bottom: 0.5em;}#sk-container-id-1 div.sk-estimator:hover {background-color: #d4ebff;}#sk-container-id-1 div.sk-parallel-item::after {content: \"\";width: 100%;border-bottom: 1px solid gray;flex-grow: 1;}#sk-container-id-1 div.sk-label:hover label.sk-toggleable__label {background-color: #d4ebff;}#sk-container-id-1 div.sk-serial::before {content: \"\";position: absolute;border-left: 1px solid gray;box-sizing: border-box;top: 0;bottom: 0;left: 50%;z-index: 0;}#sk-container-id-1 div.sk-serial {display: flex;flex-direction: column;align-items: center;background-color: white;padding-right: 0.2em;padding-left: 0.2em;position: relative;}#sk-container-id-1 div.sk-item {position: relative;z-index: 1;}#sk-container-id-1 div.sk-parallel {display: flex;align-items: stretch;justify-content: center;background-color: white;position: relative;}#sk-container-id-1 div.sk-item::before, #sk-container-id-1 div.sk-parallel-item::before {content: \"\";position: absolute;border-left: 1px solid gray;box-sizing: border-box;top: 0;bottom: 0;left: 50%;z-index: -1;}#sk-container-id-1 div.sk-parallel-item {display: flex;flex-direction: column;z-index: 1;position: relative;background-color: white;}#sk-container-id-1 div.sk-parallel-item:first-child::after {align-self: flex-end;width: 50%;}#sk-container-id-1 div.sk-parallel-item:last-child::after {align-self: flex-start;width: 50%;}#sk-container-id-1 div.sk-parallel-item:only-child::after {width: 0;}#sk-container-id-1 div.sk-dashed-wrapped {border: 1px dashed gray;margin: 0 0.4em 0.5em 0.4em;box-sizing: border-box;padding-bottom: 0.4em;background-color: white;}#sk-container-id-1 div.sk-label label {font-family: monospace;font-weight: bold;display: inline-block;line-height: 1.2em;}#sk-container-id-1 div.sk-label-container {text-align: center;}#sk-container-id-1 div.sk-container {/* jupyter's `normalize.less` sets `[hidden] { display: none; }` but bootstrap.min.css set `[hidden] { display: none !important; }` so we also need the `!important` here to be able to override the default hidden behavior on the sphinx rendered scikit-learn.org. See: https://github.com/scikit-learn/scikit-learn/issues/21755 */display: inline-block !important;position: relative;}#sk-container-id-1 div.sk-text-repr-fallback {display: none;}</style><div id=\"sk-container-id-1\" class=\"sk-top-container\"><div class=\"sk-text-repr-fallback\"><pre>XGBClassifier(base_score=None, booster=None, callbacks=None,\n",
       "              colsample_bylevel=None, colsample_bynode=None,\n",
       "              colsample_bytree=None, early_stopping_rounds=None,\n",
       "              enable_categorical=False, eval_metric=None, feature_types=None,\n",
       "              gamma=None, gpu_id=None, grow_policy=None, importance_type=None,\n",
       "              interaction_constraints=None, learning_rate=0.1, max_bin=None,\n",
       "              max_cat_threshold=None, max_cat_to_onehot=None,\n",
       "              max_delta_step=None, max_depth=None, max_leaves=None,\n",
       "              min_child_weight=None, missing=nan, monotone_constraints=None,\n",
       "              n_estimations=500, n_estimators=100, n_jobs=None,\n",
       "              num_parallel_tree=None, predictor=None, ...)</pre><b>In a Jupyter environment, please rerun this cell to show the HTML representation or trust the notebook. <br />On GitHub, the HTML representation is unable to render, please try loading this page with nbviewer.org.</b></div><div class=\"sk-container\" hidden><div class=\"sk-item\"><div class=\"sk-estimator sk-toggleable\"><input class=\"sk-toggleable__control sk-hidden--visually\" id=\"sk-estimator-id-1\" type=\"checkbox\" checked><label for=\"sk-estimator-id-1\" class=\"sk-toggleable__label sk-toggleable__label-arrow\">XGBClassifier</label><div class=\"sk-toggleable__content\"><pre>XGBClassifier(base_score=None, booster=None, callbacks=None,\n",
       "              colsample_bylevel=None, colsample_bynode=None,\n",
       "              colsample_bytree=None, early_stopping_rounds=None,\n",
       "              enable_categorical=False, eval_metric=None, feature_types=None,\n",
       "              gamma=None, gpu_id=None, grow_policy=None, importance_type=None,\n",
       "              interaction_constraints=None, learning_rate=0.1, max_bin=None,\n",
       "              max_cat_threshold=None, max_cat_to_onehot=None,\n",
       "              max_delta_step=None, max_depth=None, max_leaves=None,\n",
       "              min_child_weight=None, missing=nan, monotone_constraints=None,\n",
       "              n_estimations=500, n_estimators=100, n_jobs=None,\n",
       "              num_parallel_tree=None, predictor=None, ...)</pre></div></div></div></div></div>"
      ],
      "text/plain": [
       "XGBClassifier(base_score=None, booster=None, callbacks=None,\n",
       "              colsample_bylevel=None, colsample_bynode=None,\n",
       "              colsample_bytree=None, early_stopping_rounds=None,\n",
       "              enable_categorical=False, eval_metric=None, feature_types=None,\n",
       "              gamma=None, gpu_id=None, grow_policy=None, importance_type=None,\n",
       "              interaction_constraints=None, learning_rate=0.1, max_bin=None,\n",
       "              max_cat_threshold=None, max_cat_to_onehot=None,\n",
       "              max_delta_step=None, max_depth=None, max_leaves=None,\n",
       "              min_child_weight=None, missing=nan, monotone_constraints=None,\n",
       "              n_estimations=500, n_estimators=100, n_jobs=None,\n",
       "              num_parallel_tree=None, predictor=None, ...)"
      ]
     },
     "execution_count": 89,
     "metadata": {},
     "output_type": "execute_result"
    }
   ],
   "source": [
    "xgb_model = XGBClassifier(n_estimations = 500, learning_rate = 0.1,verbosity =1, random_state = 53)\n",
    "xgb_model.fit(X_train_fit,y_train_fit, eval_set = [(X_train_eval,y_train_eval)], early_stopping_rounds= 10)"
   ]
  },
  {
   "cell_type": "markdown",
   "id": "7ddac9ed",
   "metadata": {},
   "source": [
    "# code interprate\n",
    "\n",
    "The parameters provided are:\n",
    "- n_estimations: The number of boosting estimators (decision trees) to be created during training. In this case, 500 decision trees will be trained.\n",
    "- learning_rate: The step size shrinkage used to prevent overfitting. It controls the contribution of each tree in the ensemble. A smaller value requires more trees to be added to the model. Here, a learning rate of 0.1 is used.\n",
    "- verbosity: The level of verbosity for the output during training. A value of 1 provides some information about the training progress.\n",
    "- random_state: The random seed used for reproducibility. Setting this value to 53 ensures that the results will be the same each time the code is run.\n",
    "\n",
    "from 2nd line\n",
    "- The eval_set argument is optional but useful for monitoring the performance of the model during training\n",
    "- The early_stopping_rounds parameter is optional as well. It allows early stopping based on the evaluation metric provided. If the performance on the evaluation set does not improve for early_stopping_rounds consecutive rounds, the training is stopped early. Here, if there is no improvement in the evaluation metric for 10 consecutive rounds, the training will stop."
   ]
  },
  {
   "cell_type": "code",
   "execution_count": 90,
   "id": "9df4e20e",
   "metadata": {},
   "outputs": [
    {
     "data": {
      "text/plain": [
       "29"
      ]
     },
     "execution_count": 90,
     "metadata": {},
     "output_type": "execute_result"
    }
   ],
   "source": [
    "xgb_model.best_iteration"
   ]
  },
  {
   "cell_type": "code",
   "execution_count": 94,
   "id": "a2ba56f7",
   "metadata": {},
   "outputs": [
    {
     "name": "stdout",
     "output_type": "stream",
     "text": [
      "Metrics train:\n",
      "\tAccuracy score: 0.9346\n",
      "Metrics test:\n",
      "\tAccuracy score: 0.8587\n"
     ]
    }
   ],
   "source": [
    "# accuracy for XGBoost\n",
    "print(f\"Metrics train:\\n\\tAccuracy score: {accuracy_score(xgb_model.predict(X_train),y_train):.4f}\\nMetrics test:\\n\\tAccuracy score: {accuracy_score(xgb_model.predict(X_test),y_test):.4f}\")"
   ]
  },
  {
   "cell_type": "code",
   "execution_count": 95,
   "id": "9a527679",
   "metadata": {},
   "outputs": [],
   "source": []
  },
  {
   "cell_type": "markdown",
   "id": "3162afec",
   "metadata": {},
   "source": [
    "# accuracy scores of the random forest, decision tree, and XGBoost models:"
   ]
  },
  {
   "cell_type": "code",
   "execution_count": 100,
   "id": "f5f32f49",
   "metadata": {},
   "outputs": [
    {
     "name": "stdout",
     "output_type": "stream",
     "text": [
      "Model           Train Accuracy  Test Accuracy  \n",
      "Random Forest   0.9360          0.8859         \n",
      "Decision Tree   0.8678          0.8315         \n",
      "XGBoost         0.9346          0.8587         \n"
     ]
    }
   ],
   "source": [
    "# Calculate accuracy scores for each model\n",
    "rf_train_accuracy = accuracy_score(random_forest_model.predict(X_train), y_train)\n",
    "rf_test_accuracy = accuracy_score(random_forest_model.predict(X_test), y_test)\n",
    "\n",
    "dt_train_accuracy = accuracy_score(dt_model.predict(X_train), y_train)\n",
    "dt_test_accuracy = accuracy_score(dt_model.predict(X_test), y_test)\n",
    "\n",
    "xgb_train_accuracy = accuracy_score(xgb_model.predict(X_train), y_train)\n",
    "xgb_test_accuracy = accuracy_score(xgb_model.predict(X_test), y_test)\n",
    "\n",
    "# Create a table header\n",
    "table_header = [\"Model\", \"Train Accuracy\", \"Test Accuracy\"]\n",
    "# Create a list of rows for the table\n",
    "table_rows = [\n",
    "    [\"Random Forest\", rf_train_accuracy, rf_test_accuracy],\n",
    "    [\"Decision Tree\", dt_train_accuracy, dt_test_accuracy],\n",
    "    [\"XGBoost\", xgb_train_accuracy, xgb_test_accuracy]\n",
    "]\n",
    "# Print the table header\n",
    "print(\"{:<15} {:<15} {:<15}\".format(*table_header))\n",
    "\n",
    "# Print the table rows\n",
    "for row in table_rows:\n",
    "    print(\"{:<15} {:<15.4f} {:<15.4f}\".format(*row))"
   ]
  },
  {
   "cell_type": "code",
   "execution_count": null,
   "id": "ff1851f0",
   "metadata": {},
   "outputs": [],
   "source": []
  }
 ],
 "metadata": {
  "kernelspec": {
   "display_name": "Python 3 (ipykernel)",
   "language": "python",
   "name": "python3"
  },
  "language_info": {
   "codemirror_mode": {
    "name": "ipython",
    "version": 3
   },
   "file_extension": ".py",
   "mimetype": "text/x-python",
   "name": "python",
   "nbconvert_exporter": "python",
   "pygments_lexer": "ipython3",
   "version": "3.10.10"
  }
 },
 "nbformat": 4,
 "nbformat_minor": 5
}
